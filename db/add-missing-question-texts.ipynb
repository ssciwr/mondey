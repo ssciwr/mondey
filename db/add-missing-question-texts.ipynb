{
 "cells": [
  {
   "cell_type": "markdown",
   "id": "b1e61525-be84-492c-8567-20e0317b6a54",
   "metadata": {},
   "source": [
    "### Add missing question texts"
   ]
  },
  {
   "cell_type": "code",
   "execution_count": 11,
   "id": "979567a0-9acf-4e84-b610-445af2b01a2c",
   "metadata": {},
   "outputs": [],
   "source": [
    "import sqlite3 as lite"
   ]
  },
  {
   "cell_type": "code",
   "execution_count": 12,
   "id": "ad12fc8f-608a-4ed5-a69c-98b4b2d6b1aa",
   "metadata": {},
   "outputs": [],
   "source": [
    "con = lite.connect(\"mondey.db\")"
   ]
  },
  {
   "cell_type": "code",
   "execution_count": 13,
   "id": "6337a231-d989-4c85-9a74-b2fe6030b4a0",
   "metadata": {},
   "outputs": [],
   "source": [
    "# get de texts\n",
    "with con:\n",
    "    cur = con.cursor()\n",
    "    de_texts = [\n",
    "        c for c in cur.execute(\"select * from childquestiontext where lang_id='de'\")\n",
    "    ]"
   ]
  },
  {
   "cell_type": "code",
   "execution_count": 14,
   "id": "9079bfd8-8129-4810-b4e9-0de2a32b295f",
   "metadata": {},
   "outputs": [
    {
     "name": "stdout",
     "output_type": "stream",
     "text": [
      "insert into childquestiontext values ('','','', 3, 'en');\n",
      "insert into childquestiontext values ('','','', 4, 'en');\n",
      "insert into childquestiontext values ('','','', 5, 'en');\n",
      "insert into childquestiontext values ('','','', 6, 'en');\n",
      "insert into childquestiontext values ('','','', 7, 'en');\n",
      "insert into childquestiontext values ('','','', 8, 'en');\n",
      "insert into childquestiontext values ('','','', 9, 'en');\n",
      "insert into childquestiontext values ('','','', 10, 'en');\n",
      "insert into childquestiontext values ('','','', 11, 'en');\n",
      "insert into childquestiontext values ('','','', 12, 'en');\n",
      "insert into childquestiontext values ('','','', 13, 'en');\n",
      "insert into childquestiontext values ('','','', 14, 'en');\n",
      "insert into childquestiontext values ('','','', 15, 'en');\n",
      "insert into childquestiontext values ('','','', 16, 'en');\n",
      "insert into childquestiontext values ('','','', 17, 'en');\n",
      "insert into childquestiontext values ('','','', 18, 'en');\n",
      "insert into childquestiontext values ('','','', 19, 'en');\n",
      "insert into childquestiontext values ('','','', 20, 'en');\n"
     ]
    }
   ],
   "source": [
    "for de_text in de_texts:\n",
    "    with con:\n",
    "        cur = con.cursor()\n",
    "        sql = f\"insert into childquestiontext values ('','','', {de_text[3]}, 'en');\"\n",
    "        print(sql)\n",
    "        cur.execute(sql)"
   ]
  },
  {
   "cell_type": "code",
   "execution_count": 15,
   "id": "6e7e1e96-c502-43b6-b4d6-127bd35c8e6f",
   "metadata": {},
   "outputs": [],
   "source": [
    "# repeat for user questions\n",
    "with con:\n",
    "    cur = con.cursor()\n",
    "    de_texts = [\n",
    "        c for c in cur.execute(\"select * from userquestiontext where lang_id='de'\")\n",
    "    ]"
   ]
  },
  {
   "cell_type": "code",
   "execution_count": 16,
   "id": "c4ff3e2f-1945-4ee3-b81e-39b6a2e7930f",
   "metadata": {},
   "outputs": [
    {
     "name": "stdout",
     "output_type": "stream",
     "text": [
      "insert into userquestiontext values ('','','', 2, 'en');\n",
      "insert into userquestiontext values ('','','', 3, 'en');\n",
      "insert into userquestiontext values ('','','', 4, 'en');\n",
      "insert into userquestiontext values ('','','', 5, 'en');\n",
      "insert into userquestiontext values ('','','', 6, 'en');\n",
      "insert into userquestiontext values ('','','', 7, 'en');\n",
      "insert into userquestiontext values ('','','', 8, 'en');\n",
      "insert into userquestiontext values ('','','', 9, 'en');\n",
      "insert into userquestiontext values ('','','', 10, 'en');\n",
      "insert into userquestiontext values ('','','', 11, 'en');\n",
      "insert into userquestiontext values ('','','', 12, 'en');\n"
     ]
    }
   ],
   "source": [
    "for de_text in de_texts:\n",
    "    with con:\n",
    "        cur = con.cursor()\n",
    "        sql = f\"insert into userquestiontext values ('','','', {de_text[3]}, 'en');\"\n",
    "        print(sql)\n",
    "        cur.execute(sql)"
   ]
  },
  {
   "cell_type": "code",
   "execution_count": null,
   "id": "d2383b9b-2eaa-4f23-9b60-a9993a2da04b",
   "metadata": {},
   "outputs": [],
   "source": []
  }
 ],
 "metadata": {
  "kernelspec": {
   "display_name": "Python 3 (ipykernel)",
   "language": "python",
   "name": "python3"
  },
  "language_info": {
   "codemirror_mode": {
    "name": "ipython",
    "version": 3
   },
   "file_extension": ".py",
   "mimetype": "text/x-python",
   "name": "python",
   "nbconvert_exporter": "python",
   "pygments_lexer": "ipython3",
   "version": "3.13.0"
  }
 },
 "nbformat": 4,
 "nbformat_minor": 5
}
